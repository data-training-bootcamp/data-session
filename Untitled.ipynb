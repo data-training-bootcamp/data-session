{
 "cells": [
  {
   "cell_type": "code",
   "execution_count": 1,
   "id": "a0b3425f-8dc5-4c4e-aed9-ebca8cab9fe1",
   "metadata": {},
   "outputs": [],
   "source": [
    "import pandas as pd"
   ]
  },
  {
   "cell_type": "code",
   "execution_count": null,
   "id": "da0258a0-46e4-4776-9ba2-c93b400782db",
   "metadata": {},
   "outputs": [],
   "source": [
    "#Download Electric Vehicle Population Data from https://catalog.data.gov/dataset/?res_format=CSV   (download CSV and JSON and parse both files in the Dataframe)"
   ]
  },
  {
   "cell_type": "code",
   "execution_count": 2,
   "id": "e9a59488-4feb-4f49-8513-93efe0eccccc",
   "metadata": {},
   "outputs": [],
   "source": [
    "df = pd.read_csv(\"/Users/kumar/Downloads/Electric_Vehicle_Population_Data.csv\")"
   ]
  },
  {
   "cell_type": "code",
   "execution_count": 3,
   "id": "856aa31d-f880-4d23-8e01-c92610bafeb3",
   "metadata": {},
   "outputs": [
    {
     "data": {
      "text/html": [
       "<div>\n",
       "<style scoped>\n",
       "    .dataframe tbody tr th:only-of-type {\n",
       "        vertical-align: middle;\n",
       "    }\n",
       "\n",
       "    .dataframe tbody tr th {\n",
       "        vertical-align: top;\n",
       "    }\n",
       "\n",
       "    .dataframe thead th {\n",
       "        text-align: right;\n",
       "    }\n",
       "</style>\n",
       "<table border=\"1\" class=\"dataframe\">\n",
       "  <thead>\n",
       "    <tr style=\"text-align: right;\">\n",
       "      <th></th>\n",
       "      <th>VIN (1-10)</th>\n",
       "      <th>County</th>\n",
       "      <th>City</th>\n",
       "      <th>State</th>\n",
       "      <th>Postal Code</th>\n",
       "      <th>Model Year</th>\n",
       "      <th>Make</th>\n",
       "      <th>Model</th>\n",
       "      <th>Electric Vehicle Type</th>\n",
       "      <th>Clean Alternative Fuel Vehicle (CAFV) Eligibility</th>\n",
       "      <th>Electric Range</th>\n",
       "      <th>Base MSRP</th>\n",
       "      <th>Legislative District</th>\n",
       "      <th>DOL Vehicle ID</th>\n",
       "      <th>Vehicle Location</th>\n",
       "      <th>Electric Utility</th>\n",
       "      <th>2020 Census Tract</th>\n",
       "    </tr>\n",
       "  </thead>\n",
       "  <tbody>\n",
       "    <tr>\n",
       "      <th>0</th>\n",
       "      <td>5UXTA6C0XM</td>\n",
       "      <td>Kitsap</td>\n",
       "      <td>Seabeck</td>\n",
       "      <td>WA</td>\n",
       "      <td>98380.0</td>\n",
       "      <td>2021</td>\n",
       "      <td>BMW</td>\n",
       "      <td>X5</td>\n",
       "      <td>Plug-in Hybrid Electric Vehicle (PHEV)</td>\n",
       "      <td>Clean Alternative Fuel Vehicle Eligible</td>\n",
       "      <td>30.0</td>\n",
       "      <td>0.0</td>\n",
       "      <td>35.0</td>\n",
       "      <td>267929112</td>\n",
       "      <td>POINT (-122.8728334 47.5798304)</td>\n",
       "      <td>PUGET SOUND ENERGY INC</td>\n",
       "      <td>5.303509e+10</td>\n",
       "    </tr>\n",
       "    <tr>\n",
       "      <th>1</th>\n",
       "      <td>5YJ3E1EB1J</td>\n",
       "      <td>Kitsap</td>\n",
       "      <td>Poulsbo</td>\n",
       "      <td>WA</td>\n",
       "      <td>98370.0</td>\n",
       "      <td>2018</td>\n",
       "      <td>TESLA</td>\n",
       "      <td>MODEL 3</td>\n",
       "      <td>Battery Electric Vehicle (BEV)</td>\n",
       "      <td>Clean Alternative Fuel Vehicle Eligible</td>\n",
       "      <td>215.0</td>\n",
       "      <td>0.0</td>\n",
       "      <td>23.0</td>\n",
       "      <td>475911439</td>\n",
       "      <td>POINT (-122.6368884 47.7469547)</td>\n",
       "      <td>PUGET SOUND ENERGY INC</td>\n",
       "      <td>5.303509e+10</td>\n",
       "    </tr>\n",
       "    <tr>\n",
       "      <th>2</th>\n",
       "      <td>WP0AD2A73G</td>\n",
       "      <td>Snohomish</td>\n",
       "      <td>Bothell</td>\n",
       "      <td>WA</td>\n",
       "      <td>98012.0</td>\n",
       "      <td>2016</td>\n",
       "      <td>PORSCHE</td>\n",
       "      <td>PANAMERA</td>\n",
       "      <td>Plug-in Hybrid Electric Vehicle (PHEV)</td>\n",
       "      <td>Not eligible due to low battery range</td>\n",
       "      <td>15.0</td>\n",
       "      <td>0.0</td>\n",
       "      <td>1.0</td>\n",
       "      <td>101971278</td>\n",
       "      <td>POINT (-122.206146 47.839957)</td>\n",
       "      <td>PUGET SOUND ENERGY INC</td>\n",
       "      <td>5.306105e+10</td>\n",
       "    </tr>\n",
       "    <tr>\n",
       "      <th>3</th>\n",
       "      <td>5YJ3E1EB5J</td>\n",
       "      <td>Kitsap</td>\n",
       "      <td>Bremerton</td>\n",
       "      <td>WA</td>\n",
       "      <td>98310.0</td>\n",
       "      <td>2018</td>\n",
       "      <td>TESLA</td>\n",
       "      <td>MODEL 3</td>\n",
       "      <td>Battery Electric Vehicle (BEV)</td>\n",
       "      <td>Clean Alternative Fuel Vehicle Eligible</td>\n",
       "      <td>215.0</td>\n",
       "      <td>0.0</td>\n",
       "      <td>23.0</td>\n",
       "      <td>474363746</td>\n",
       "      <td>POINT (-122.6231895 47.5930874)</td>\n",
       "      <td>PUGET SOUND ENERGY INC</td>\n",
       "      <td>5.303508e+10</td>\n",
       "    </tr>\n",
       "    <tr>\n",
       "      <th>4</th>\n",
       "      <td>1N4AZ1CP3K</td>\n",
       "      <td>King</td>\n",
       "      <td>Redmond</td>\n",
       "      <td>WA</td>\n",
       "      <td>98052.0</td>\n",
       "      <td>2019</td>\n",
       "      <td>NISSAN</td>\n",
       "      <td>LEAF</td>\n",
       "      <td>Battery Electric Vehicle (BEV)</td>\n",
       "      <td>Clean Alternative Fuel Vehicle Eligible</td>\n",
       "      <td>150.0</td>\n",
       "      <td>0.0</td>\n",
       "      <td>45.0</td>\n",
       "      <td>476346482</td>\n",
       "      <td>POINT (-122.13158 47.67858)</td>\n",
       "      <td>PUGET SOUND ENERGY INC||CITY OF TACOMA - (WA)</td>\n",
       "      <td>5.303303e+10</td>\n",
       "    </tr>\n",
       "  </tbody>\n",
       "</table>\n",
       "</div>"
      ],
      "text/plain": [
       "   VIN (1-10)     County       City State  Postal Code  Model Year     Make  \\\n",
       "0  5UXTA6C0XM     Kitsap    Seabeck    WA      98380.0        2021      BMW   \n",
       "1  5YJ3E1EB1J     Kitsap    Poulsbo    WA      98370.0        2018    TESLA   \n",
       "2  WP0AD2A73G  Snohomish    Bothell    WA      98012.0        2016  PORSCHE   \n",
       "3  5YJ3E1EB5J     Kitsap  Bremerton    WA      98310.0        2018    TESLA   \n",
       "4  1N4AZ1CP3K       King    Redmond    WA      98052.0        2019   NISSAN   \n",
       "\n",
       "      Model                   Electric Vehicle Type  \\\n",
       "0        X5  Plug-in Hybrid Electric Vehicle (PHEV)   \n",
       "1   MODEL 3          Battery Electric Vehicle (BEV)   \n",
       "2  PANAMERA  Plug-in Hybrid Electric Vehicle (PHEV)   \n",
       "3   MODEL 3          Battery Electric Vehicle (BEV)   \n",
       "4      LEAF          Battery Electric Vehicle (BEV)   \n",
       "\n",
       "  Clean Alternative Fuel Vehicle (CAFV) Eligibility  Electric Range  \\\n",
       "0           Clean Alternative Fuel Vehicle Eligible            30.0   \n",
       "1           Clean Alternative Fuel Vehicle Eligible           215.0   \n",
       "2             Not eligible due to low battery range            15.0   \n",
       "3           Clean Alternative Fuel Vehicle Eligible           215.0   \n",
       "4           Clean Alternative Fuel Vehicle Eligible           150.0   \n",
       "\n",
       "   Base MSRP  Legislative District  DOL Vehicle ID  \\\n",
       "0        0.0                  35.0       267929112   \n",
       "1        0.0                  23.0       475911439   \n",
       "2        0.0                   1.0       101971278   \n",
       "3        0.0                  23.0       474363746   \n",
       "4        0.0                  45.0       476346482   \n",
       "\n",
       "                  Vehicle Location  \\\n",
       "0  POINT (-122.8728334 47.5798304)   \n",
       "1  POINT (-122.6368884 47.7469547)   \n",
       "2    POINT (-122.206146 47.839957)   \n",
       "3  POINT (-122.6231895 47.5930874)   \n",
       "4      POINT (-122.13158 47.67858)   \n",
       "\n",
       "                                Electric Utility  2020 Census Tract  \n",
       "0                         PUGET SOUND ENERGY INC       5.303509e+10  \n",
       "1                         PUGET SOUND ENERGY INC       5.303509e+10  \n",
       "2                         PUGET SOUND ENERGY INC       5.306105e+10  \n",
       "3                         PUGET SOUND ENERGY INC       5.303508e+10  \n",
       "4  PUGET SOUND ENERGY INC||CITY OF TACOMA - (WA)       5.303303e+10  "
      ]
     },
     "execution_count": 3,
     "metadata": {},
     "output_type": "execute_result"
    }
   ],
   "source": [
    "df.head()"
   ]
  },
  {
   "cell_type": "code",
   "execution_count": null,
   "id": "67788a37-cb99-460a-b95e-0435aac1fe33",
   "metadata": {},
   "outputs": [],
   "source": [
    "df.columns"
   ]
  },
  {
   "cell_type": "code",
   "execution_count": null,
   "id": "45bf623c-e9c6-4b5f-ab31-1b35b0f02dc6",
   "metadata": {},
   "outputs": [],
   "source": [
    "df['State'].unique()"
   ]
  },
  {
   "cell_type": "code",
   "execution_count": null,
   "id": "6f4c9783-7120-42ff-836f-3010e64cb1e9",
   "metadata": {},
   "outputs": [],
   "source": [
    "df.count()"
   ]
  },
  {
   "cell_type": "code",
   "execution_count": null,
   "id": "a85c4efe-2e83-4dac-a28e-bf1f70032d3a",
   "metadata": {},
   "outputs": [],
   "source": [
    "# Total number of States"
   ]
  },
  {
   "cell_type": "code",
   "execution_count": null,
   "id": "4b9d1fce-8be3-4df1-a3a3-cc08c7aff37e",
   "metadata": {},
   "outputs": [],
   "source": [
    "# Total states and the vehicle count in the state"
   ]
  },
  {
   "cell_type": "code",
   "execution_count": null,
   "id": "3b95b9ba-36d3-472b-8d67-4b76a1a4506a",
   "metadata": {},
   "outputs": [],
   "source": [
    "#Filter State = 'WA' and show group by City the number of vehicles"
   ]
  },
  {
   "cell_type": "code",
   "execution_count": null,
   "id": "ac733e39-0c0a-4f15-a0d9-8b0961bb3d81",
   "metadata": {},
   "outputs": [],
   "source": [
    "#Filter by State = 'WA' and show count of different make,   # where condition and a group by condition"
   ]
  },
  {
   "cell_type": "code",
   "execution_count": 4,
   "id": "d918b43f-c349-430f-9750-98acdd51cd69",
   "metadata": {},
   "outputs": [],
   "source": [
    "#Identify which make has highest registrations"
   ]
  },
  {
   "cell_type": "code",
   "execution_count": 5,
   "id": "9136b185-de9a-45a0-9faa-b6435ea90bfc",
   "metadata": {},
   "outputs": [],
   "source": [
    "#Identify the releations in the data and reduce the redundancy.  Create dataframes that can be inserted into a database"
   ]
  },
  {
   "cell_type": "code",
   "execution_count": 6,
   "id": "70e02d13-efbe-461e-b316-2d348503a73f",
   "metadata": {},
   "outputs": [],
   "source": [
    "#Plof a graph to show Different makes in WA state"
   ]
  },
  {
   "cell_type": "code",
   "execution_count": 7,
   "id": "09aa29e4-ffce-450f-ae29-09a66efebcd2",
   "metadata": {},
   "outputs": [],
   "source": [
    "#Indentify if the tread of vehicle registrations increased and plot a graph for the State 'WA'"
   ]
  },
  {
   "cell_type": "code",
   "execution_count": null,
   "id": "836e8138-0c59-44fa-8340-1a50e9e7ac27",
   "metadata": {},
   "outputs": [],
   "source": [
    "#Indentify the tread for each Make and plot the graph,  do this on entire data"
   ]
  },
  {
   "cell_type": "code",
   "execution_count": 9,
   "id": "d0541c1c-2c2d-47a0-bb00-796ee1b2591b",
   "metadata": {},
   "outputs": [],
   "source": [
    "#Bucket data into Electric Range (0-15, 16-30, 30-50, 50-100, 100 and above) and plot a graph.   Do this on the entire dataset"
   ]
  },
  {
   "cell_type": "code",
   "execution_count": null,
   "id": "6649f869-2d6b-49d0-8c30-179d64cf4edf",
   "metadata": {},
   "outputs": [],
   "source": []
  }
 ],
 "metadata": {
  "kernelspec": {
   "display_name": "Python 3 (ipykernel)",
   "language": "python",
   "name": "python3"
  },
  "language_info": {
   "codemirror_mode": {
    "name": "ipython",
    "version": 3
   },
   "file_extension": ".py",
   "mimetype": "text/x-python",
   "name": "python",
   "nbconvert_exporter": "python",
   "pygments_lexer": "ipython3",
   "version": "3.13.0"
  }
 },
 "nbformat": 4,
 "nbformat_minor": 5
}
